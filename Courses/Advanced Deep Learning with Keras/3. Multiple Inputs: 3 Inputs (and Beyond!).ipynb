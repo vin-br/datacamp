{
 "cells": [
  {
   "attachments": {},
   "cell_type": "markdown",
   "metadata": {},
   "source": [
    "# Python\n",
    "\n",
    "## Advanced Deep Learning with Keras"
   ]
  },
  {
   "attachments": {},
   "cell_type": "markdown",
   "metadata": {},
   "source": [
    "### 3. Multiple Inputs: 3 Inputs (and Beyond!)"
   ]
  },
  {
   "attachments": {},
   "cell_type": "markdown",
   "metadata": {},
   "source": [
    "#### Make an input layer for home vs. away\n",
    "\n",
    "- Create three inputs layers of shape 1, one each for team 1, team 2, and home vs away.\n",
    "- Lookup the team inputs in team_strength_model().\n",
    "- Concatenate the team strengths with the home input and pass to a Dense layer."
   ]
  },
  {
   "cell_type": "code",
   "execution_count": null,
   "metadata": {},
   "outputs": [],
   "source": [
    "# Create an Input for each team\n",
    "team_in_1 = Input(shape=(1,), name=\"Team-1-In\")\n",
    "team_in_2 = Input(shape=(1,), name=\"Team-2-In\")\n",
    "\n",
    "# Create an input for home vs away\n",
    "home_in = Input(shape=(1,), name=\"Home-In\")\n",
    "\n",
    "# Lookup the team inputs in the team strength model\n",
    "team_1_strength = team_strength_model(team_in_1)\n",
    "team_2_strength = team_strength_model(team_in_2)\n",
    "\n",
    "# Combine the team strengths with the home input using a Concatenate layer, then add a Dense layer\n",
    "out = Concatenate()([team_1_strength, team_2_strength, home_in])\n",
    "out = Dense(1)(out)"
   ]
  },
  {
   "attachments": {},
   "cell_type": "markdown",
   "metadata": {},
   "source": [
    "#### Make a model and compile it\n",
    "\n",
    "- Create a model using team_in_1, team_in_2, and home_in as inputs and out as the output.\n",
    "- Compile the model using the 'adam' optimizer and 'mean_absolute_error' as the loss function."
   ]
  },
  {
   "cell_type": "code",
   "execution_count": null,
   "metadata": {},
   "outputs": [],
   "source": [
    "# Import the model class\n",
    "from tensorflow.keras.models import Model\n",
    "\n",
    "# Make a Model\n",
    "model = Model([team_in_1, team_in_2, home_in], out)\n",
    "\n",
    "# Compile the model\n",
    "model.compile(optimizer=\"adam\", loss=\"mean_absolute_error\")"
   ]
  },
  {
   "attachments": {},
   "cell_type": "markdown",
   "metadata": {},
   "source": [
    "#### Fit the model and evaluate\n",
    "\n",
    "- Fit the model to the games_season dataset, using 'team_1', 'team_2' and 'home' columns as inputs, and the 'score_diff' column as the target.\n",
    "- Fit the model using 1 epoch, 10% validation split and a batch size of 2048.\n",
    "- Evaluate the model on games_tourney, using the same inputs and outputs."
   ]
  },
  {
   "cell_type": "code",
   "execution_count": null,
   "metadata": {},
   "outputs": [],
   "source": [
    "# Fit the model to the games_season dataset\n",
    "model.fit(\n",
    "    [games_season[\"team_1\"], games_season[\"team_2\"], games_season[\"home\"]],\n",
    "    games_season[\"score_diff\"],\n",
    "    epochs=1,\n",
    "    verbose=True,\n",
    "    validation_split=0.10,\n",
    "    batch_size=2048,\n",
    ")\n",
    "\n",
    "# Evaluate the model on the games_tourney dataset\n",
    "print(\n",
    "    model.evaluate(\n",
    "        [games_tourney[\"team_1\"], games_tourney[\"team_2\"], games_tourney[\"home\"]],\n",
    "        games_tourney[\"score_diff\"],\n",
    "        verbose=False,\n",
    "    )\n",
    ")"
   ]
  },
  {
   "attachments": {},
   "cell_type": "markdown",
   "metadata": {},
   "source": [
    "#### Plotting models\n",
    "\n",
    "- Save the model plot to the file 'model.png'.\n",
    "- Import and display 'model.png' into Python using matplotlib."
   ]
  },
  {
   "cell_type": "code",
   "execution_count": null,
   "metadata": {},
   "outputs": [],
   "source": [
    "# Imports\n",
    "import matplotlib.pyplot as plt\n",
    "from tensorflow.keras.utils import plot_model\n",
    "\n",
    "# Plot the model\n",
    "plot_model(model, to_file=\"model.png\")\n",
    "\n",
    "# Display the image\n",
    "data = plt.imread(\"model.png\")\n",
    "plt.imshow(data)\n",
    "plt.show()"
   ]
  },
  {
   "attachments": {},
   "cell_type": "markdown",
   "metadata": {},
   "source": [
    "#### Add the model predictions to the tournament data\n",
    "\n",
    "- Use the model to predict on the games_tourney dataset. The model has three inputs: 'team_1', 'team_2', and 'home' columns. Assign the predictions to a new column, 'pred'."
   ]
  },
  {
   "cell_type": "code",
   "execution_count": null,
   "metadata": {},
   "outputs": [],
   "source": [
    "# Predict\n",
    "games_tourney[\"pred\"] = model.predict(\n",
    "    [games_tourney[\"team_1\"], games_tourney[\"team_2\"], games_tourney[\"home\"]]\n",
    ")"
   ]
  },
  {
   "attachments": {},
   "cell_type": "markdown",
   "metadata": {},
   "source": [
    "#### Create an input layer with multiple columns\n",
    "\n",
    "- Create a single input layer with 3 columns.\n",
    "- Connect this input to a Dense layer with 1 unit.\n",
    "- Create a model with input_tensor as the input and output_tensor as the output.\n",
    "- Compile the model with 'adam' as the optimizer and 'mean_absolute_error' as the loss function."
   ]
  },
  {
   "cell_type": "code",
   "execution_count": null,
   "metadata": {},
   "outputs": [],
   "source": [
    "# Create an input layer with 3 columns\n",
    "input_tensor = Input(shape=(3,))\n",
    "\n",
    "# Pass it to a Dense layer with 1 unit\n",
    "output_tensor = Dense(1)(input_tensor)\n",
    "\n",
    "# Create a model\n",
    "model = Model(input_tensor, output_tensor)\n",
    "\n",
    "# Compile the model\n",
    "model.compile(optimizer=\"adam\", loss=\"mean_absolute_error\")"
   ]
  },
  {
   "attachments": {},
   "cell_type": "markdown",
   "metadata": {},
   "source": [
    "#### Fit the model\n",
    "\n",
    "- Fit the model to the games_tourney_train dataset using 1 epoch.\n",
    "- The input columns are 'home', 'seed_diff', and 'pred'.\n",
    "- The target column is 'score_diff'."
   ]
  },
  {
   "cell_type": "code",
   "execution_count": null,
   "metadata": {},
   "outputs": [],
   "source": [
    "# Fit the model\n",
    "model.fit(\n",
    "    games_tourney_train[[\"home\", \"seed_diff\", \"pred\"]],\n",
    "    games_tourney_train[\"score_diff\"],\n",
    "    epochs=1,\n",
    "    verbose=True,\n",
    ")"
   ]
  },
  {
   "attachments": {},
   "cell_type": "markdown",
   "metadata": {},
   "source": [
    "#### Evaluate the model\n",
    "\n",
    "- Evaluate the model on the games_tourney_test data.\n",
    "- Recall that the model's inputs are 'home', 'seed_diff', and 'prediction' columns and the target column is 'score_diff'."
   ]
  },
  {
   "cell_type": "code",
   "execution_count": null,
   "metadata": {},
   "outputs": [],
   "source": [
    "# Evaluate the model on the games_tourney_test dataset\n",
    "test_X = games_tourney_test[[\"home\", \"seed_diff\", \"prediction\"]]\n",
    "test_y = games_tourney_test[\"score_diff\"]\n",
    "\n",
    "print(model.evaluate(test_X, test_y, verbose=False))"
   ]
  }
 ],
 "metadata": {
  "kernelspec": {
   "display_name": "Work",
   "language": "python",
   "name": "python3"
  },
  "language_info": {
   "name": "python",
   "version": "3.11.0 (main, Jan  2 2023, 14:17:44) [Clang 12.0.0 (clang-1200.0.32.29)]"
  },
  "orig_nbformat": 4,
  "vscode": {
   "interpreter": {
    "hash": "4053dca0899ea429c38048b3b4c554b4290776a3cdcda77797b988a5de7bd87b"
   }
  }
 },
 "nbformat": 4,
 "nbformat_minor": 2
}
