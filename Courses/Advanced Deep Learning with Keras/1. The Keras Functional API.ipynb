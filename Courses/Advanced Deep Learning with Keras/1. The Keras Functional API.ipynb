{
 "cells": [
  {
   "attachments": {},
   "cell_type": "markdown",
   "metadata": {},
   "source": [
    "# Python\n",
    "\n",
    "## Advanced Deep Learning with Keras"
   ]
  },
  {
   "attachments": {},
   "cell_type": "markdown",
   "metadata": {},
   "source": [
    "### 1. The Keras Functional API"
   ]
  },
  {
   "attachments": {},
   "cell_type": "markdown",
   "metadata": {},
   "source": [
    "#### Input layers\n",
    "\n",
    "- Import the Input layer function from keras.layers.\n",
    "- Create an input layer of shape 1."
   ]
  },
  {
   "cell_type": "code",
   "execution_count": null,
   "metadata": {},
   "outputs": [],
   "source": [
    "# Import Input from tensorflow.keras.layers\n",
    "from tensorflow.keras.layers import Input\n",
    "\n",
    "# Create an input layer of shape 1\n",
    "input_tensor = Input(shape=(1,))"
   ]
  },
  {
   "attachments": {},
   "cell_type": "markdown",
   "metadata": {},
   "source": [
    "#### Dense layers\n",
    "\n",
    "- Import the Dense layer function from keras.layers.\n",
    "- Create a Dense layer with 1 unit.\n",
    "- Pass input_tensor to output_layer()."
   ]
  },
  {
   "cell_type": "code",
   "execution_count": null,
   "metadata": {},
   "outputs": [],
   "source": [
    "# Load layers\n",
    "from tensorflow.keras.layers import Input, Dense\n",
    "\n",
    "# Input layer\n",
    "input_tensor = Input(shape=(1,))\n",
    "\n",
    "# Dense layer\n",
    "output_layer = Dense(1)\n",
    "\n",
    "# Connect the dense layer to the input_tensor\n",
    "output_tensor = output_layer(input_tensor)"
   ]
  },
  {
   "attachments": {},
   "cell_type": "markdown",
   "metadata": {},
   "source": [
    "#### Output layers\n",
    "\n",
    "- Import the Input and Dense functions from keras.layers.\n",
    "- Create an input layer of shape 1.\n",
    "- Again, create a dense layer with 1 unit and pass input_tensor directly to it."
   ]
  },
  {
   "cell_type": "code",
   "execution_count": null,
   "metadata": {},
   "outputs": [],
   "source": [
    "# Load layers\n",
    "from tensorflow.keras.layers import Input, Dense\n",
    "\n",
    "# Input layer\n",
    "input_tensor = Input(shape=(1,))\n",
    "\n",
    "# Create a dense layer and connect the dense layer to the input_tensor in one step\n",
    "# Note that we did this in 2 steps in the previous exercise, but are doing it in one step now\n",
    "output_tensor = Dense(1)(input_tensor)"
   ]
  },
  {
   "attachments": {},
   "cell_type": "markdown",
   "metadata": {},
   "source": [
    "#### Build a model\n",
    "\n",
    "- Import Model from keras.models to create a keras model.\n",
    "- Use the input layer and output layer you already defined as the model's input and output."
   ]
  },
  {
   "cell_type": "code",
   "execution_count": null,
   "metadata": {},
   "outputs": [],
   "source": [
    "# Input/dense/output layers\n",
    "from tensorflow.keras.layers import Input, Dense\n",
    "\n",
    "input_tensor = Input(shape=(1,))\n",
    "output_tensor = Dense(1)(input_tensor)\n",
    "\n",
    "# Build the model\n",
    "from tensorflow.keras.models import Model\n",
    "\n",
    "model = Model(input_tensor, output_tensor)"
   ]
  },
  {
   "attachments": {},
   "cell_type": "markdown",
   "metadata": {},
   "source": [
    "#### Compile a model\n",
    "\n",
    "- Compile the model you created (model).\n",
    "- Use the 'adam' optimizer.\n",
    "- Use mean absolute error (or 'mean_absolute_error') loss."
   ]
  },
  {
   "cell_type": "code",
   "execution_count": null,
   "metadata": {},
   "outputs": [],
   "source": [
    "# Compile the model\n",
    "model.compile(optimizer=\"adam\", loss=\"mean_absolute_error\")"
   ]
  },
  {
   "attachments": {},
   "cell_type": "markdown",
   "metadata": {},
   "source": [
    "#### Visualize a model\n",
    "\n",
    "- Summarize the model.\n",
    "- Plot the model."
   ]
  },
  {
   "cell_type": "code",
   "execution_count": null,
   "metadata": {},
   "outputs": [],
   "source": [
    "# Import the plotting function\n",
    "from tensorflow.keras.utils import plot_model\n",
    "import matplotlib.pyplot as plt\n",
    "\n",
    "# Summarize the model\n",
    "model.summary()\n",
    "\n",
    "# Plot the model\n",
    "plot_model(model, to_file=\"model.png\")\n",
    "\n",
    "# Display the image\n",
    "data = plt.imread(\"model.png\")\n",
    "plt.imshow(data)\n",
    "plt.show()"
   ]
  },
  {
   "attachments": {},
   "cell_type": "markdown",
   "metadata": {},
   "source": [
    "#### Fit the model to the tournament basketball data\n",
    "\n",
    "- Fit the model with seed_diff as the input variable and score_diff as the output variable.\n",
    "- Use 1 epoch, a batch size of 128, and a 10% validation split."
   ]
  },
  {
   "cell_type": "code",
   "execution_count": null,
   "metadata": {},
   "outputs": [],
   "source": [
    "# Now fit the model\n",
    "model.fit(\n",
    "    games_tourney_train[\"seed_diff\"],\n",
    "    games_tourney_train[\"score_diff\"],\n",
    "    epochs=1,\n",
    "    batch_size=128,\n",
    "    validation_split=0.10,\n",
    "    verbose=True,\n",
    ")"
   ]
  },
  {
   "attachments": {},
   "cell_type": "markdown",
   "metadata": {},
   "source": [
    "#### Evaluate the model on a test set\n",
    "\n",
    "- Assign the test data (seed_diff column) to X_test.\n",
    "- Assign the target data (score_diff column) to y_test.\n",
    "- Evaluate the model on X_test and y_test."
   ]
  },
  {
   "cell_type": "code",
   "execution_count": null,
   "metadata": {},
   "outputs": [],
   "source": [
    "# Load the X variable from the test data\n",
    "X_test = games_tourney_test[\"seed_diff\"]\n",
    "\n",
    "# Load the y variable from the test data\n",
    "y_test = games_tourney_test[\"score_diff\"]\n",
    "\n",
    "# Evaluate the model on the test data\n",
    "print(model.evaluate(X_test, y_test, verbose=False))"
   ]
  }
 ],
 "metadata": {
  "language_info": {
   "name": "python"
  },
  "orig_nbformat": 4
 },
 "nbformat": 4,
 "nbformat_minor": 2
}
