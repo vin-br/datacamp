{
 "cells": [
  {
   "attachments": {},
   "cell_type": "markdown",
   "metadata": {},
   "source": [
    "# Python\n",
    "\n",
    "## Advanced Deep Learning with Keras"
   ]
  },
  {
   "attachments": {},
   "cell_type": "markdown",
   "metadata": {},
   "source": [
    "### 4. Multiple Outputs"
   ]
  },
  {
   "attachments": {},
   "cell_type": "markdown",
   "metadata": {},
   "source": [
    "#### Simple two-output model\n",
    "\n",
    "- Create a single input layer with 2 columns.\n",
    "- Connect this input to a Dense layer with 2 units.\n",
    "- Create a model with input_tensor as the input and output_tensor as the output.\n",
    "- Compile the model with 'adam' as the optimizer and 'mean_absolute_error' as the loss function."
   ]
  },
  {
   "cell_type": "code",
   "execution_count": null,
   "metadata": {},
   "outputs": [],
   "source": [
    "# Define the input\n",
    "input_tensor = Input(shape=(2,))\n",
    "\n",
    "# Define the output\n",
    "output_tensor = Dense(2)(input_tensor)\n",
    "\n",
    "# Create a model\n",
    "model = Model(input_tensor, output_tensor)\n",
    "\n",
    "# Compile the model\n",
    "model.compile(optimizer=\"adam\", loss=\"mean_absolute_error\")"
   ]
  },
  {
   "attachments": {},
   "cell_type": "markdown",
   "metadata": {},
   "source": [
    "#### Fit a model with two outputs\n",
    "\n",
    "- Fit the model to the games_tourney_train dataset using 100 epochs and a batch size of 16384.\n",
    "- The input columns are 'seed_diff', and 'pred'.\n",
    "- The target columns are 'score_1' and 'score_2'."
   ]
  },
  {
   "cell_type": "code",
   "execution_count": null,
   "metadata": {},
   "outputs": [],
   "source": [
    "# Fit the model\n",
    "model.fit(\n",
    "    games_tourney_train[[\"seed_diff\", \"pred\"]],\n",
    "    games_tourney_train[[\"score_1\", \"score_2\"]],\n",
    "    verbose=True,\n",
    "    epochs=100,\n",
    "    batch_size=16384,\n",
    ")"
   ]
  },
  {
   "attachments": {},
   "cell_type": "markdown",
   "metadata": {},
   "source": [
    "#### Inspect the model (I)\n",
    "\n",
    "- Print the model's weights.\n",
    "- Print the column means of the training data (games_tourney_train)."
   ]
  },
  {
   "cell_type": "code",
   "execution_count": null,
   "metadata": {},
   "outputs": [],
   "source": [
    "# Print the model's weights\n",
    "print(model.get_weights())\n",
    "\n",
    "# Print the column means of the training data\n",
    "print(games_tourney_train.mean())"
   ]
  },
  {
   "attachments": {},
   "cell_type": "markdown",
   "metadata": {},
   "source": [
    "#### Evaluate the model\n",
    "\n",
    "- Evaluate the model on games_tourney_test.\n",
    "- Use the same inputs and outputs as the training set."
   ]
  },
  {
   "cell_type": "code",
   "execution_count": null,
   "metadata": {},
   "outputs": [],
   "source": [
    "# Evaluate the model on the tournament test data\n",
    "print(\n",
    "    model.evaluate(\n",
    "        games_tourney_test[[\"seed_diff\", \"pred\"]],\n",
    "        games_tourney_test[[\"score_1\", \"score_2\"]],\n",
    "        verbose=False,\n",
    "    )\n",
    ")"
   ]
  },
  {
   "attachments": {},
   "cell_type": "markdown",
   "metadata": {},
   "source": [
    "#### Classification and regression in one model\n",
    "\n",
    "- Create a single input layer with 2 columns.\n",
    "- The first output layer should have 1 unit with 'linear' activation and no bias term.\n",
    "- The second output layer should have 1 unit with 'sigmoid' activation and no bias term. Also, use the first output layer as an input to this layer.\n",
    "- Create a model with these input and outputs."
   ]
  },
  {
   "cell_type": "code",
   "execution_count": null,
   "metadata": {},
   "outputs": [],
   "source": [
    "# Create an input layer with 2 columns\n",
    "input_tensor = Input(shape=(2,))\n",
    "\n",
    "# Create the first output\n",
    "output_tensor_1 = Dense(1, activation=\"linear\", use_bias=False)(input_tensor)\n",
    "\n",
    "# Create the second output (use the first output as input here)\n",
    "output_tensor_2 = Dense(1, activation=\"sigmoid\", use_bias=False)(output_tensor_1)\n",
    "\n",
    "# Create a model with 2 outputs\n",
    "model = Model(input_tensor, [output_tensor_1, output_tensor_2])"
   ]
  },
  {
   "attachments": {},
   "cell_type": "markdown",
   "metadata": {},
   "source": [
    "#### Compile and fit the model\n",
    "\n",
    "- Import Adam from keras.optimizers.\n",
    "- Compile the model with 2 losses: 'mean_absolute_error' and 'binary_crossentropy', and use the Adam optimizer with a learning rate of 0.01.\n",
    "- Fit the model with 'seed_diff' and 'pred' columns as the inputs and 'score_diff' and 'won' columns as the targets.\n",
    "- Use 10 epochs and a batch size of 16384."
   ]
  },
  {
   "cell_type": "code",
   "execution_count": null,
   "metadata": {},
   "outputs": [],
   "source": [
    "# Import the Adam optimizer\n",
    "from tensorflow.keras.optimizers import Adam\n",
    "\n",
    "# Compile the model with 2 losses and the Adam optimzer with a higher learning rate\n",
    "model.compile(\n",
    "    loss=[\"mean_absolute_error\", \"binary_crossentropy\"], optimizer=Adam(learning_rate=0.01)\n",
    ")\n",
    "\n",
    "# Fit the model to the tournament training data, with 2 inputs and 2 outputs\n",
    "model.fit(\n",
    "    games_tourney_train[[\"seed_diff\", \"pred\"]],\n",
    "    [games_tourney_train[[\"score_diff\"]], games_tourney_train[[\"won\"]]],\n",
    "    epochs=10,\n",
    "    verbose=True,\n",
    "    batch_size=16384,\n",
    ")"
   ]
  },
  {
   "attachments": {},
   "cell_type": "markdown",
   "metadata": {},
   "source": [
    "#### Inspect the model (II)\n",
    "\n",
    "- Print the model's weights.\n",
    "- Print the column means of the training data (games_tourney_train)."
   ]
  },
  {
   "cell_type": "code",
   "execution_count": null,
   "metadata": {},
   "outputs": [],
   "source": [
    "# Print the model weights\n",
    "print(model.get_weights())\n",
    "\n",
    "# Print the training data means\n",
    "print(games_tourney_train.mean())"
   ]
  },
  {
   "attachments": {},
   "cell_type": "markdown",
   "metadata": {},
   "source": [
    "- Print the approximate win probability predicted for a close game (1 point difference).\n",
    "- Print the approximate win probability predicted blowout game (10 point difference)."
   ]
  },
  {
   "cell_type": "code",
   "execution_count": null,
   "metadata": {},
   "outputs": [],
   "source": [
    "# Import the sigmoid function from scipy\n",
    "from scipy.special import expit as sigmoid\n",
    "\n",
    "# Weight from the model\n",
    "weight = 0.14\n",
    "\n",
    "# Print the approximate win probability predicted close game\n",
    "print(sigmoid(1 * weight))\n",
    "\n",
    "# Print the approximate win probability predicted blowout game\n",
    "print(sigmoid(10 * weight))"
   ]
  },
  {
   "attachments": {},
   "cell_type": "markdown",
   "metadata": {},
   "source": [
    "#### Evaluate on new data with two metrics\n",
    "\n",
    "- Evaluate the model on games_tourney_test.\n",
    "- Use the same inputs and outputs as the training set."
   ]
  },
  {
   "cell_type": "code",
   "execution_count": null,
   "metadata": {},
   "outputs": [],
   "source": [
    "# Evaluate the model on new data\n",
    "print(\n",
    "    model.evaluate(\n",
    "        games_tourney_test[[\"seed_diff\", \"pred\"]],\n",
    "        [games_tourney_test[[\"score_diff\"]], games_tourney_test[[\"won\"]]],\n",
    "        verbose=False,\n",
    "    )\n",
    ")"
   ]
  }
 ],
 "metadata": {
  "kernelspec": {
   "display_name": "Python 3",
   "language": "python",
   "name": "python3"
  },
  "language_info": {
   "name": "python",
   "version": "3.11.0 (main, Jan  2 2023, 14:17:44) [Clang 12.0.0 (clang-1200.0.32.29)]"
  },
  "orig_nbformat": 4,
  "vscode": {
   "interpreter": {
    "hash": "ee8650a8a4c1679348e0cc32060a82139de1066e76c148eef86ade240ac6bb3f"
   }
  }
 },
 "nbformat": 4,
 "nbformat_minor": 2
}
