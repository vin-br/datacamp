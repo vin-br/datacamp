{
 "cells": [
  {
   "attachments": {},
   "cell_type": "markdown",
   "metadata": {},
   "source": [
    "# Python\n",
    "\n",
    "## Introduction to Deep Learning with Keras"
   ]
  },
  {
   "attachments": {},
   "cell_type": "markdown",
   "metadata": {},
   "source": [
    "### 2. Going Deeper"
   ]
  },
  {
   "attachments": {},
   "cell_type": "markdown",
   "metadata": {},
   "source": [
    "#### Exploring dollar bills\n",
    "\n",
    "- Import seaborn as sns.\n",
    "- Use seaborn's pairplot() on banknotes and set hue to be the name of the column containing the labels.\n",
    "- Generate descriptive statistics for the banknotes authentication data.\n",
    "- Count the number of observations per label with .value_counts()."
   ]
  },
  {
   "cell_type": "code",
   "execution_count": null,
   "metadata": {},
   "outputs": [],
   "source": [
    "# Import seaborn\n",
    "import seaborn as sns\n",
    "\n",
    "# Use pairplot and set the hue to be our class column\n",
    "sns.pairplot(banknotes, hue=\"class\")\n",
    "\n",
    "# Show the plot\n",
    "plt.show()\n",
    "\n",
    "# Describe the data\n",
    "print(\"Dataset stats: \\n\", banknotes.describe())\n",
    "\n",
    "# Count the number of observations per class\n",
    "print(\"Observations per class: \\n\", banknotes[\"class\"].value_counts())"
   ]
  },
  {
   "attachments": {},
   "cell_type": "markdown",
   "metadata": {},
   "source": [
    "#### A binary classification model\n",
    "\n",
    "- Import the Sequential model and Dense layer from tensorflow.keras.\n",
    "- Create a sequential model.\n",
    "- Add a 4 neuron input layer with the input_shape parameter and a 1 neuron output layer with sigmoid activation.\n",
    "- Compile your model using sgd as an optimizer."
   ]
  },
  {
   "cell_type": "code",
   "execution_count": null,
   "metadata": {},
   "outputs": [],
   "source": [
    "# Import the sequential model and dense layer\n",
    "from tensorflow.keras.models import Sequential\n",
    "from tensorflow.keras.layers import Dense\n",
    "\n",
    "# Create a sequential model\n",
    "model = Sequential()\n",
    "\n",
    "# Add a dense layer\n",
    "model.add(Dense(1, input_shape=(4,), activation=\"sigmoid\"))\n",
    "\n",
    "# Compile your model\n",
    "model.compile(loss=\"binary_crossentropy\", optimizer=\"sgd\", metrics=[\"accuracy\"])\n",
    "\n",
    "# Display a summary of your model\n",
    "model.summary()"
   ]
  },
  {
   "attachments": {},
   "cell_type": "markdown",
   "metadata": {},
   "source": [
    "#### Is this dollar bill fake ?\n",
    "\n",
    "- Train your model for 20 epochs calling .fit(), passing in the training data.\n",
    "- Check your model accuracy using the .evaluate() method on the test data.\n",
    "- Print accuracy."
   ]
  },
  {
   "cell_type": "code",
   "execution_count": null,
   "metadata": {},
   "outputs": [],
   "source": [
    "# Train your model for 20 epochs\n",
    "model.fit(X_train, y_train, epochs=20)\n",
    "\n",
    "# Evaluate your model accuracy on the test set\n",
    "accuracy = model.evaluate(X_test, y_test)[1]\n",
    "\n",
    "# Print accuracy\n",
    "print(\"Accuracy:\", accuracy)"
   ]
  },
  {
   "attachments": {},
   "cell_type": "markdown",
   "metadata": {},
   "source": [
    "#### A multi-class model\n",
    "\n",
    "- Instantiate a Sequential model.\n",
    "- Add 3 dense layers of 128, 64 and 32 neurons each.\n",
    "- Add a final dense layer with as many neurons as competitors.\n",
    "- Compile your model using categorical_crossentropy loss."
   ]
  },
  {
   "cell_type": "code",
   "execution_count": null,
   "metadata": {},
   "outputs": [],
   "source": [
    "# Instantiate a sequential model\n",
    "model = Sequential()\n",
    "\n",
    "# Add 3 dense layers of 128, 64 and 32 neurons each\n",
    "model.add(Dense(128, input_shape=(2,), activation=\"relu\"))\n",
    "model.add(Dense(64, activation=\"relu\"))\n",
    "model.add(Dense(32, activation=\"relu\"))\n",
    "\n",
    "# Add a dense layer with as many neurons as competitors\n",
    "model.add(Dense(4, activation=\"softmax\"))\n",
    "\n",
    "# Compile your model using categorical_crossentropy loss\n",
    "model.compile(loss=\"categorical_crossentropy\", optimizer=\"adam\", metrics=[\"accuracy\"])"
   ]
  },
  {
   "attachments": {},
   "cell_type": "markdown",
   "metadata": {},
   "source": [
    "#### Prepare your dataset\n",
    "\n",
    "- Use the Categorical() method from pandas to transform the competitor column.\n",
    "- Assign a number to each competitor using the cat.codes attribute from the competitor column."
   ]
  },
  {
   "cell_type": "code",
   "execution_count": null,
   "metadata": {},
   "outputs": [],
   "source": [
    "# Transform into a categorical variable\n",
    "darts.competitor = pd.Categorical(darts.competitor)\n",
    "\n",
    "# Assign a number to each category (label encoding)\n",
    "darts.competitor = darts.competitor.cat.codes\n",
    "\n",
    "# Print the label encoded competitors\n",
    "print(\"Label encoded competitors: \\n\", darts.competitor.head())"
   ]
  },
  {
   "attachments": {},
   "cell_type": "markdown",
   "metadata": {},
   "source": [
    "- Import to_categorical from tensorflow.keras.utils.\n",
    "- Apply to_categorical() to your labels."
   ]
  },
  {
   "cell_type": "code",
   "execution_count": null,
   "metadata": {},
   "outputs": [],
   "source": [
    "# Transform into a categorical variable\n",
    "darts.competitor = pd.Categorical(darts.competitor)\n",
    "\n",
    "# Assign a number to each category (label encoding)\n",
    "darts.competitor = darts.competitor.cat.codes\n",
    "\n",
    "# Import to_categorical from keras utils module\n",
    "from tensorflow.keras.utils import to_categorical\n",
    "\n",
    "coordinates = darts.drop([\"competitor\"], axis=1)\n",
    "# Use to_categorical on your labels\n",
    "competitors = to_categorical(darts.competitor)\n",
    "\n",
    "# Now print the one-hot encoded labels\n",
    "print(\"One-hot encoded competitors: \\n\", competitors)"
   ]
  },
  {
   "attachments": {},
   "cell_type": "markdown",
   "metadata": {},
   "source": [
    "#### Training on dart throwers\n",
    "\n",
    "- Train your model on the training data for 200 epochs.\n",
    "- Evaluate your model accuracy on the test data."
   ]
  },
  {
   "cell_type": "code",
   "execution_count": null,
   "metadata": {},
   "outputs": [],
   "source": [
    "# Fit your model to the training data for 200 epochs\n",
    "model.fit(coord_train, competitors_train, epochs=200)\n",
    "\n",
    "# Evaluate your model accuracy on the test data\n",
    "accuracy = model.evaluate(coord_test, competitors_test)[1]\n",
    "\n",
    "# Print accuracy\n",
    "print(\"Accuracy:\", accuracy)"
   ]
  },
  {
   "attachments": {},
   "cell_type": "markdown",
   "metadata": {},
   "source": [
    "#### Softmax predictions\n",
    "\n",
    "- Predict with your model on coords_small_test.\n",
    "- Print the model predictions."
   ]
  },
  {
   "cell_type": "code",
   "execution_count": null,
   "metadata": {},
   "outputs": [],
   "source": [
    "# Predict on coords_small_test\n",
    "preds = model.predict(coords_small_test)\n",
    "\n",
    "# Print preds vs true values\n",
    "print(\"{:45} | {}\".format(\"Raw Model Predictions\", \"True labels\"))\n",
    "for i, pred in enumerate(preds):\n",
    "    print(\"{} | {}\".format(pred, competitors_small_test[i]))"
   ]
  },
  {
   "attachments": {},
   "cell_type": "markdown",
   "metadata": {},
   "source": [
    "- Use np.argmax()to extract the index of the highest probable competitor from each pred vector in preds.\n"
   ]
  },
  {
   "cell_type": "code",
   "execution_count": null,
   "metadata": {},
   "outputs": [],
   "source": [
    "# Predict on coords_small_test\n",
    "preds = model.predict(coords_small_test)\n",
    "\n",
    "# Print preds vs true values\n",
    "print(\"{:45} | {}\".format(\"Raw Model Predictions\", \"True labels\"))\n",
    "for i, pred in enumerate(preds):\n",
    "    print(\"{} | {}\".format(pred, competitors_small_test[i]))\n",
    "\n",
    "# Extract the position of highest probability from each pred vector\n",
    "preds_chosen = [np.argmax(pred) for pred in preds]\n",
    "\n",
    "# Print preds vs true values\n",
    "print(\"{:10} | {}\".format(\"Rounded Model Predictions\", \"True labels\"))\n",
    "for i, pred in enumerate(preds_chosen):\n",
    "    print(\"{:25} | {}\".format(pred, competitors_small_test[i]))"
   ]
  },
  {
   "cell_type": "code",
   "execution_count": null,
   "metadata": {},
   "outputs": [],
   "source": []
  }
 ],
 "metadata": {
  "kernelspec": {
   "display_name": "Work",
   "language": "python",
   "name": "python3"
  },
  "language_info": {
   "name": "python",
   "version": "3.11.0 (main, Jan  2 2023, 14:17:44) [Clang 12.0.0 (clang-1200.0.32.29)]"
  },
  "orig_nbformat": 4,
  "vscode": {
   "interpreter": {
    "hash": "4053dca0899ea429c38048b3b4c554b4290776a3cdcda77797b988a5de7bd87b"
   }
  }
 },
 "nbformat": 4,
 "nbformat_minor": 2
}
