{
 "cells": [
  {
   "attachments": {},
   "cell_type": "markdown",
   "metadata": {},
   "source": [
    "# Python\n",
    "\n",
    "## Object-Oriented Programming in Python"
   ]
  },
  {
   "attachments": {},
   "cell_type": "markdown",
   "metadata": {},
   "source": [
    "### 4. Best Practices of Class Design"
   ]
  },
  {
   "attachments": {},
   "cell_type": "markdown",
   "metadata": {},
   "source": [
    "#### Square and rectangle\n",
    "\n",
    "- Create a class Rectangle with a constructor that accepts two parameters, h and w, and sets its h and w attributes to the values of h and w.\n",
    "- Create a class Square inherited from Rectangle with a constructor that accepts one parameter w, and sets both the h and w attributes to the value of w."
   ]
  },
  {
   "cell_type": "code",
   "execution_count": null,
   "metadata": {},
   "outputs": [],
   "source": [
    "# Define a Rectangle class\n",
    "class Rectangle:\n",
    "    def __init__(self, h, w):\n",
    "        self.h, self.w = h, w\n",
    "\n",
    "\n",
    "# Define a Square class\n",
    "class Square(Rectangle):\n",
    "    def __init__(self, w):\n",
    "        self.h, self.w = w, w"
   ]
  },
  {
   "attachments": {},
   "cell_type": "markdown",
   "metadata": {},
   "source": [
    "A Square inherited from a Rectangle will always have both the h and w attributes, but we can't allow them to change independently of each other.\n",
    "- Define methods set_h() and set_w() in Rectangle, each accepting one parameter and setting h and w.\n",
    "- Define methods set_h() and set_w() in Square, each accepting one parameter, and setting both h and w to that parameter in both methods."
   ]
  },
  {
   "cell_type": "code",
   "execution_count": null,
   "metadata": {},
   "outputs": [],
   "source": [
    "class Rectangle:\n",
    "    def __init__(self, w, h):\n",
    "        self.w, self.h = w, h\n",
    "\n",
    "    # Define set_h to set h\n",
    "    def set_h(self, h):\n",
    "        self.h = h\n",
    "\n",
    "    # Define set_w to set w\n",
    "    def set_w(self, w):\n",
    "        self.w = w\n",
    "\n",
    "\n",
    "class Square(Rectangle):\n",
    "    def __init__(self, w):\n",
    "        self.w, self.h = w, w\n",
    "\n",
    "    # Define set_h to set w and h\n",
    "    def set_h(self, h):\n",
    "        self.h = h\n",
    "        self.w = h\n",
    "\n",
    "    # Define set_w to set w and h\n",
    "    def set_w(self, w):\n",
    "        self.h = w\n",
    "        self.w = w"
   ]
  },
  {
   "attachments": {},
   "cell_type": "markdown",
   "metadata": {},
   "source": [
    "#### Using internal attributes\n",
    "\n",
    "- Add a class attribute _MAX_DAYS storing the maximal number of days in a month - 30.\n",
    "- Add another class attribute storing the maximal number of months in a year - 12. Use the appropriate naming convention to indicate that this is an internal attribute.\n",
    "- Add an _is_valid() method that returns True if the day and month attributes are less than or equal to the corresponding maximum values, and False otherwise. Make sure to refer to the class attributes by their names!"
   ]
  },
  {
   "cell_type": "code",
   "execution_count": null,
   "metadata": {},
   "outputs": [],
   "source": [
    "# Add class attributes for max number of days and months\n",
    "class BetterDate:\n",
    "    _MAX_DAYS = 30\n",
    "    _MAX_MONTHS = 12\n",
    "\n",
    "    def __init__(self, year, month, day):\n",
    "        self.year, self.month, self.day = year, month, day\n",
    "\n",
    "    @classmethod\n",
    "    def from_str(cls, datestr):\n",
    "        year, month, day = map(int, datestr.split(\"-\"))\n",
    "        return cls(year, month, day)\n",
    "\n",
    "    # Add _is_valid() checking day and month values\n",
    "    def _is_valid(self):\n",
    "        if self.day <= BetterDate._MAX_DAYS and self.month <= BetterDate._MAX_MONTHS:\n",
    "            return True\n",
    "        else:\n",
    "            return False\n",
    "\n",
    "\n",
    "bd1 = BetterDate(2020, 4, 30)\n",
    "print(bd1._is_valid())\n",
    "\n",
    "bd2 = BetterDate(2020, 6, 45)\n",
    "print(bd2._is_valid())"
   ]
  },
  {
   "attachments": {},
   "cell_type": "markdown",
   "metadata": {},
   "source": [
    "#### Create and set properties\n",
    "\n",
    "Create a Customer class with the __init__() method that:\n",
    "- takes parameters name and new_bal,\n",
    "- assigns name to the attribute name,\n",
    "- raises a ValueError if new_bal is negative,\n",
    "- otherwise, assigns new_bal to the attribute _balance (with _)."
   ]
  },
  {
   "cell_type": "code",
   "execution_count": null,
   "metadata": {},
   "outputs": [],
   "source": [
    "# Create a Customer class\n",
    "class Customer:\n",
    "    def __init__(self, name, new_bal):\n",
    "        self.name = name\n",
    "        if new_bal < 0:\n",
    "            raise ValueError(\"Balance cannot be negative\")\n",
    "        else:\n",
    "            self._balance = new_bal"
   ]
  },
  {
   "attachments": {},
   "cell_type": "markdown",
   "metadata": {},
   "source": [
    "- Add a method balance() with a @property decorator that returns the _balance attribute."
   ]
  },
  {
   "cell_type": "code",
   "execution_count": null,
   "metadata": {},
   "outputs": [],
   "source": [
    "class Customer:\n",
    "    def __init__(self, name, new_bal):\n",
    "        self.name = name\n",
    "        if new_bal < 0:\n",
    "            raise ValueError(\"Invalid balance!\")\n",
    "        self._balance = new_bal\n",
    "\n",
    "    # Add a decorated balance() method returning _balance\n",
    "    @property\n",
    "    def balance(self):\n",
    "        return self._balance"
   ]
  },
  {
   "attachments": {},
   "cell_type": "markdown",
   "metadata": {},
   "source": [
    "Define another balance() method to serve as a setter, with the appropriate decorator and an additional parameter:\n",
    "- Raise a ValueError if the parameter is negative,\n",
    "- otherwise assign it to _balance ;\n",
    "- print \"Setter method is called\"."
   ]
  },
  {
   "cell_type": "code",
   "execution_count": null,
   "metadata": {},
   "outputs": [],
   "source": [
    "class Customer:\n",
    "    def __init__(self, name, new_bal):\n",
    "        self.name = name\n",
    "        if new_bal < 0:\n",
    "            raise ValueError(\"Invalid balance!\")\n",
    "        self._balance = new_bal\n",
    "\n",
    "    # Add a decorated balance() method returning _balance\n",
    "    @property\n",
    "    def balance(self):\n",
    "        return self._balance\n",
    "\n",
    "    # Add a setter balance() method\n",
    "    @balance.setter\n",
    "    def balance(self, new_balance):\n",
    "        # Validate the parameter value\n",
    "        if new_balance < 0:\n",
    "            raise ValueError(\"Balance cannot be negative\")\n",
    "        else:\n",
    "            self._balance = new_balance\n",
    "\n",
    "        # Print \"Setter method is called\"\n",
    "        print(\"Setter method is called\")"
   ]
  },
  {
   "attachments": {},
   "cell_type": "markdown",
   "metadata": {},
   "source": [
    "- Create a Customer named Belinda Lutz with the balance of 2000 and save it as cust.\n",
    "- Use the dot syntax and the = to assign 3000 to cust.balance.\n",
    "- Print cust.balance.\n",
    "\n",
    "In the console, try assigning -1000 to cust.balance. What happens?"
   ]
  },
  {
   "cell_type": "code",
   "execution_count": null,
   "metadata": {},
   "outputs": [],
   "source": [
    "class Customer:\n",
    "    def __init__(self, name, new_bal):\n",
    "        self.name = name\n",
    "        if new_bal < 0:\n",
    "            raise ValueError(\"Invalid balance!\")\n",
    "        self._balance = new_bal\n",
    "\n",
    "    # Add a decorated balance() method returning _balance\n",
    "    @property\n",
    "    def balance(self):\n",
    "        return self._balance\n",
    "\n",
    "    # Add a setter balance() method\n",
    "    @balance.setter\n",
    "    def balance(self, new_bal):\n",
    "        # Validate the parameter value\n",
    "        if new_bal < 0:\n",
    "            raise ValueError(\"Invalid balance!\")\n",
    "        self._balance = new_bal\n",
    "        print(\"Setter method called\")\n",
    "\n",
    "\n",
    "# Create a Customer\n",
    "cust = Customer(\"Belinda Lutz\", 2000)\n",
    "\n",
    "# Assign 3000 to the balance property\n",
    "cust.balance = 3000\n",
    "\n",
    "# Print the balance property\n",
    "print(cust.balance)"
   ]
  },
  {
   "attachments": {},
   "cell_type": "markdown",
   "metadata": {},
   "source": [
    "#### Read-only properties\n",
    "\n",
    "- Assign a new value of '2035-07-13' to the created_at attribute.\n",
    "- Print the value of ldf's created_at attribute to verify that your assignment was successful."
   ]
  },
  {
   "cell_type": "code",
   "execution_count": null,
   "metadata": {},
   "outputs": [],
   "source": [
    "import pandas as pd\n",
    "from datetime import datetime\n",
    "\n",
    "# LoggedDF class definition from Chapter 2\n",
    "class LoggedDF(pd.DataFrame):\n",
    "    def __init__(self, *args, **kwargs):\n",
    "        pd.DataFrame.__init__(self, *args, **kwargs)\n",
    "        self.created_at = datetime.today()\n",
    "\n",
    "    def to_csv(self, *args, **kwargs):\n",
    "        temp = self.copy()\n",
    "        temp[\"created_at\"] = self.created_at\n",
    "        pd.DataFrame.to_csv(temp, *args, **kwargs)\n",
    "\n",
    "\n",
    "# Instantiate a LoggedDF called ldf\n",
    "ldf = LoggedDF({\"col1\": [1, 2], \"col2\": [3, 4]})\n",
    "\n",
    "# Assign a new value to ldf's created_at attribute and print\n",
    "ldf.created_at = \"2035-07-13\"\n",
    "print(ldf.created_at)"
   ]
  },
  {
   "attachments": {},
   "cell_type": "markdown",
   "metadata": {},
   "source": [
    "- Create an internal attribute called _created_at to turn created_at into a read-only attribute.\n",
    "- Modify the class to use the internal attribute, _created_at, in place of created_at."
   ]
  },
  {
   "cell_type": "code",
   "execution_count": null,
   "metadata": {},
   "outputs": [],
   "source": [
    "import pandas as pd\n",
    "from datetime import datetime\n",
    "\n",
    "# MODIFY the class to use _created_at instead of created_at\n",
    "class LoggedDF(pd.DataFrame):\n",
    "    def __init__(self, *args, **kwargs):\n",
    "        pd.DataFrame.__init__(self, *args, **kwargs)\n",
    "        self._created_at = datetime.today()\n",
    "\n",
    "    def to_csv(self, *args, **kwargs):\n",
    "        temp = self.copy()\n",
    "        temp[\"created_at\"] = self._created_at\n",
    "        pd.DataFrame.to_csv(temp, *args, **kwargs)\n",
    "\n",
    "    # Add a read-only property: _created_at\n",
    "    @property\n",
    "    def created_at(self):\n",
    "        return self._created_at\n",
    "\n",
    "\n",
    "# Instantiate a LoggedDF called ldf\n",
    "ldf = LoggedDF({\"col1\": [1, 2], \"col2\": [3, 4]})"
   ]
  }
 ],
 "metadata": {
  "kernelspec": {
   "display_name": "Python 3",
   "language": "python",
   "name": "python3"
  },
  "language_info": {
   "name": "python",
   "version": "3.11.1 (main, Dec 29 2022, 11:47:02) [Clang 14.0.0 (clang-1400.0.29.202)]"
  },
  "orig_nbformat": 4,
  "vscode": {
   "interpreter": {
    "hash": "8c14fa8c09279120c4b0ca8931b16814a1fae9c467b2c71556a9771a4a7718ef"
   }
  }
 },
 "nbformat": 4,
 "nbformat_minor": 2
}
