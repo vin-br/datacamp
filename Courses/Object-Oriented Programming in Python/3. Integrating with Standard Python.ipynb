{
 "cells": [
  {
   "attachments": {},
   "cell_type": "markdown",
   "metadata": {},
   "source": [
    "# Python\n",
    "\n",
    "## Object-Oriented Programming in Python"
   ]
  },
  {
   "attachments": {},
   "cell_type": "markdown",
   "metadata": {},
   "source": [
    "### 3. Integrating with Standard Python"
   ]
  },
  {
   "attachments": {},
   "cell_type": "markdown",
   "metadata": {},
   "source": [
    "#### Overloading equality\n",
    "\n",
    "Try selecting the code in lines 1-7 and pressing the \"Run code\" button. Then try to create a few BankAccount objects in the console and compare them.\n",
    "\n",
    "- Modify the __init__() method to accept a new parameter - number - and initialize a new number attribute.\n",
    "- Define an __eq__() method that returns True if the number attribute of two objects is equal.\n",
    "- Examine the print statements and the output in the console."
   ]
  },
  {
   "cell_type": "code",
   "execution_count": null,
   "metadata": {},
   "outputs": [],
   "source": [
    "class BankAccount:\n",
    "   # MODIFY to initialize a number attribute\n",
    "    def __init__(self, number, balance=0):\n",
    "        self.balance = balance\n",
    "        self.number = number\n",
    "      \n",
    "    def withdraw(self, amount):\n",
    "        self.balance -= amount \n",
    "    \n",
    "    # Define __eq__ that returns True if the number attributes are equal \n",
    "    def __eq__(self, other):\n",
    "        return self.number == other.number   \n",
    "\n",
    "# Create accounts and compare them       \n",
    "acct1 = BankAccount(123, 1000)\n",
    "acct2 = BankAccount(123, 1000)\n",
    "acct3 = BankAccount(456, 1000)\n",
    "print(acct1 == acct2)\n",
    "print(acct1 == acct3)"
   ]
  },
  {
   "attachments": {},
   "cell_type": "markdown",
   "metadata": {},
   "source": [
    "#### Checking class equality\n",
    "\n",
    "Both the Phone and the BankAccount classes have been defined. Try running the code as-is using the \"Run code\" button and examine the output.\n",
    "\n",
    "- Modify the definition of BankAccount to only return True if the number attribute is the same and the type() of both objects passed to it is the same.\n",
    "\n",
    "Run the code and examine the output again."
   ]
  },
  {
   "cell_type": "code",
   "execution_count": null,
   "metadata": {},
   "outputs": [],
   "source": [
    "class BankAccount:\n",
    "    def __init__(self, number, balance=0):\n",
    "        self.number, self.balance = number, balance\n",
    "      \n",
    "    def withdraw(self, amount):\n",
    "        self.balance -= amount \n",
    "\n",
    "    # MODIFY to add a check for the type()\n",
    "    def __eq__(self, other):\n",
    "        return ((self.number == other.number) and (type(self) == type(other)))\n",
    "\n",
    "acct = BankAccount(873555333)\n",
    "pn = Phone(873555333)\n",
    "print(acct == pn)"
   ]
  },
  {
   "attachments": {},
   "cell_type": "markdown",
   "metadata": {},
   "source": [
    "#### Comparison and inheritance\n",
    "\n",
    "Which __eq__() method will be called when the following code is run?"
   ]
  },
  {
   "cell_type": "code",
   "execution_count": null,
   "metadata": {},
   "outputs": [],
   "source": [
    "class Parent:\n",
    "    def __eq__(self, other):\n",
    "        print(\"Parent's __eq__() called\")\n",
    "        return True\n",
    "\n",
    "class Child(Parent):\n",
    "    def __eq__(self, other):\n",
    "        print(\"Child's __eq__() called\")\n",
    "        return True\n",
    "\n",
    "p = Parent()\n",
    "c = Child()\n",
    "\n",
    "p == c "
   ]
  },
  {
   "attachments": {},
   "cell_type": "markdown",
   "metadata": {},
   "source": [
    "#### String representation of objects\n",
    "\n",
    "Add the __str__() method to Employee that satisfies the following:\n",
    "\n",
    "- If emp is an Employee object with name \"Amar Howard\" and salary of 40000, then print(emp) outputs\n",
    "\n",
    "Employee name: Amar Howard\n",
    "\n",
    "Employee salary: 40000"
   ]
  },
  {
   "cell_type": "code",
   "execution_count": null,
   "metadata": {},
   "outputs": [],
   "source": [
    "class Employee:\n",
    "    def __init__(self, name, salary=30000):\n",
    "        self.name, self.salary = name, salary\n",
    "            \n",
    "    # Add the __str__() method\n",
    "    def __str__(self):\n",
    "        emp_str = \"\"\"\n",
    "        Employee:\n",
    "        name: {name}\n",
    "        salary: {salary}\n",
    "        \"\"\".format(name= self.name, salary=self.salary)\n",
    "        return emp_str\n",
    "\n",
    "emp1 = Employee(\"Amar Howard\", 30000)\n",
    "print(emp1)\n",
    "emp2 = Employee(\"Carolyn Ramirez\", 35000)\n",
    "print(emp2)"
   ]
  },
  {
   "attachments": {},
   "cell_type": "markdown",
   "metadata": {},
   "source": [
    "Add the __repr__() method to Employee that satisfies the following:\n",
    "\n",
    "- If emp is an Employee object with name \"Amar Howard\" and salary of 40000, then repr(emp) outputs\n",
    "\n",
    "Employee(\"Amar Howard\", 40000)\n"
   ]
  },
  {
   "cell_type": "code",
   "execution_count": null,
   "metadata": {},
   "outputs": [],
   "source": [
    "class Employee:\n",
    "    def __init__(self, name, salary=30000):\n",
    "        self.name, self.salary = name, salary\n",
    "      \n",
    "\n",
    "    def __str__(self):\n",
    "        s = \"Employee name: {name}\\nEmployee salary: {salary}\".format(name=self.name, salary=self.salary)      \n",
    "        return s\n",
    "      \n",
    "    # Add the __repr__method  \n",
    "    def __repr__(self):\n",
    "        emp = 'Employee(\"{name}\", {salary})'.format(name=self.name, salary=self.salary)\n",
    "        return emp   \n",
    "\n",
    "emp1 = Employee(\"Amar Howard\", 30000)\n",
    "print(repr(emp1))\n",
    "emp2 = Employee(\"Carolyn Ramirez\", 35000)\n",
    "print(repr(emp2))"
   ]
  },
  {
   "attachments": {},
   "cell_type": "markdown",
   "metadata": {},
   "source": [
    "#### Catching exceptions\n",
    "\n",
    "Use a try - except - except pattern (with two except blocks) inside the function to catch and handle two exceptions as follows:\n",
    "- try executing the code as-is,\n",
    "- if ZeroDivisionError occurs, print \"Cannot divide by zero!\",\n",
    "- if IndexError occurs, print \"Index out of range!\"\n",
    "\n",
    "You know you got it right if the code runs without errors, and the output in the console is:\n",
    "\n",
    "0.16666666666666666\n",
    "\n",
    "Cannot divide by zero!\n",
    "\n",
    "None\n",
    "\n",
    "Index out of range!\n",
    "\n",
    "None\n"
   ]
  },
  {
   "cell_type": "code",
   "execution_count": null,
   "metadata": {},
   "outputs": [],
   "source": [
    "# MODIFY the function to catch exceptions\n",
    "def invert_at_index(x, ind):\n",
    "    try :\n",
    "        return 1/x[ind]\n",
    "    except ZeroDivisionError:\n",
    "        print(\"Cannot divide by zero!\")\n",
    "    except IndexError:\n",
    "        print(\"Index out of range!\")\n",
    "\n",
    "a = [5,6,0,7]\n",
    "\n",
    "# Works okay\n",
    "print(invert_at_index(a, 1))\n",
    "\n",
    "# Potential ZeroDivisionError\n",
    "print(invert_at_index(a, 2))\n",
    "\n",
    "# Potential IndexError\n",
    "print(invert_at_index(a, 5))"
   ]
  },
  {
   "attachments": {},
   "cell_type": "markdown",
   "metadata": {},
   "source": [
    "#### Custom exceptions\n",
    "\n",
    "- Define an empty class SalaryError inherited from the built-in ValueError class.\n",
    "- Define an empty class BonusError inherited from the SalaryError class."
   ]
  },
  {
   "cell_type": "code",
   "execution_count": null,
   "metadata": {},
   "outputs": [],
   "source": [
    "# Define SalaryError inherited from ValueError\n",
    "class SalaryError(ValueError):\n",
    "    pass\n",
    "\n",
    "# Define BonusError inherited from SalaryError\n",
    "class BonusError(SalaryError):\n",
    "    pass\n",
    "\n"
   ]
  },
  {
   "attachments": {},
   "cell_type": "markdown",
   "metadata": {},
   "source": [
    "- Complete the definition of __init__() to raise a SalaryError with the message \"Salary is too low!\" if the salary parameter is less than MIN_SALARY class attribute.\n",
    "\n",
    "There's no need for else because raise terminates the program anyway."
   ]
  },
  {
   "cell_type": "code",
   "execution_count": null,
   "metadata": {},
   "outputs": [],
   "source": [
    "class SalaryError(ValueError): pass\n",
    "class BonusError(SalaryError): pass\n",
    "\n",
    "class Employee:\n",
    "  MIN_SALARY = 30000\n",
    "  MAX_RAISE = 5000\n",
    "\n",
    "  def __init__(self, name, salary = 30000):\n",
    "    self.name = name\n",
    "    \n",
    "    # If salary is too low\n",
    "    if salary < MIN_SALARY:\n",
    "      # Raise a SalaryError exception\n",
    "      raise SalaryError(\"Salary is too low!\")\n",
    "      \n",
    "    self.salary = salary\n",
    "      "
   ]
  },
  {
   "attachments": {},
   "cell_type": "markdown",
   "metadata": {},
   "source": [
    "Examine the give_bonus() method, and the rewrite it using exceptions instead of print statements:\n",
    "- raise a BonusError if the bonus amount is too high;\n",
    "- raise a SalaryError if the result of adding the bonus would be too low."
   ]
  },
  {
   "cell_type": "code",
   "execution_count": null,
   "metadata": {},
   "outputs": [],
   "source": [
    "class SalaryError(ValueError): pass\n",
    "class BonusError(SalaryError): pass\n",
    "\n",
    "class Employee:\n",
    "  MIN_SALARY = 30000\n",
    "  MAX_BONUS = 5000\n",
    "\n",
    "  def __init__(self, name, salary = 30000):\n",
    "    self.name = name    \n",
    "    if salary < Employee.MIN_SALARY:\n",
    "      raise SalaryError(\"Salary is too low!\")      \n",
    "    self.salary = salary\n",
    "    \n",
    "  # Rewrite using exceptions  \n",
    "  def give_bonus(self, amount):\n",
    "    if amount > Employee.MAX_BONUS:\n",
    "       raise BonusError(\"The bonus amount is too high!\")  \n",
    "        \n",
    "    elif self.salary + amount <  Employee.MIN_SALARY:\n",
    "       raise SalaryError(\"The salary after bonus is too low!\")\n",
    "      \n",
    "    else:  \n",
    "      self.salary += amount"
   ]
  }
 ],
 "metadata": {
  "language_info": {
   "name": "python"
  },
  "orig_nbformat": 4
 },
 "nbformat": 4,
 "nbformat_minor": 2
}
