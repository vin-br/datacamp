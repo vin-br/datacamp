{
 "cells": [
  {
   "attachments": {},
   "cell_type": "markdown",
   "metadata": {},
   "source": [
    "# Python\n",
    "\n",
    "## Object-Oriented Programming in Python"
   ]
  },
  {
   "attachments": {},
   "cell_type": "markdown",
   "metadata": {},
   "source": [
    "### 3. Integrating with Standard Python"
   ]
  },
  {
   "attachments": {},
   "cell_type": "markdown",
   "metadata": {},
   "source": [
    "#### Overloading equality\n",
    "\n",
    "Try selecting the code in lines 1-7 and pressing the \"Run code\" button. Then try to create a few BankAccount objects in the console and compare them.\n",
    "\n",
    "- Modify the __init__() method to accept a new parameter - number - and initialize a new number attribute.\n",
    "- Define an __eq__() method that returns True if the number attribute of two objects is equal.\n",
    "- Examine the print statements and the output in the console."
   ]
  },
  {
   "cell_type": "code",
   "execution_count": null,
   "metadata": {},
   "outputs": [],
   "source": [
    "class BankAccount:\n",
    "   # MODIFY to initialize a number attribute\n",
    "    def __init__(self, number, balance=0):\n",
    "        self.balance = balance\n",
    "        self.number = number\n",
    "      \n",
    "    def withdraw(self, amount):\n",
    "        self.balance -= amount \n",
    "    \n",
    "    # Define __eq__ that returns True if the number attributes are equal \n",
    "    def __eq__(self, other):\n",
    "        return self.number == other.number   \n",
    "\n",
    "# Create accounts and compare them       \n",
    "acct1 = BankAccount(123, 1000)\n",
    "acct2 = BankAccount(123, 1000)\n",
    "acct3 = BankAccount(456, 1000)\n",
    "print(acct1 == acct2)\n",
    "print(acct1 == acct3)"
   ]
  },
  {
   "attachments": {},
   "cell_type": "markdown",
   "metadata": {},
   "source": [
    "#### Checking class equality\n",
    "\n",
    "Both the Phone and the BankAccount classes have been defined. Try running the code as-is using the \"Run code\" button and examine the output.\n",
    "\n",
    "- Modify the definition of BankAccount to only return True if the number attribute is the same and the type() of both objects passed to it is the same.\n",
    "\n",
    "Run the code and examine the output again."
   ]
  },
  {
   "cell_type": "code",
   "execution_count": null,
   "metadata": {},
   "outputs": [],
   "source": [
    "class BankAccount:\n",
    "    def __init__(self, number, balance=0):\n",
    "        self.number, self.balance = number, balance\n",
    "      \n",
    "    def withdraw(self, amount):\n",
    "        self.balance -= amount \n",
    "\n",
    "    # MODIFY to add a check for the type()\n",
    "    def __eq__(self, other):\n",
    "        return ((self.number == other.number) and (type(self) == type(other)))\n",
    "\n",
    "acct = BankAccount(873555333)\n",
    "pn = Phone(873555333)\n",
    "print(acct == pn)"
   ]
  },
  {
   "attachments": {},
   "cell_type": "markdown",
   "metadata": {},
   "source": [
    "#### Comparison and inheritance\n",
    "\n",
    "Which __eq__() method will be called when the following code is run?"
   ]
  },
  {
   "cell_type": "code",
   "execution_count": null,
   "metadata": {},
   "outputs": [],
   "source": [
    "class Parent:\n",
    "    def __eq__(self, other):\n",
    "        print(\"Parent's __eq__() called\")\n",
    "        return True\n",
    "\n",
    "class Child(Parent):\n",
    "    def __eq__(self, other):\n",
    "        print(\"Child's __eq__() called\")\n",
    "        return True\n",
    "\n",
    "p = Parent()\n",
    "c = Child()\n",
    "\n",
    "p == c "
   ]
  },
  {
   "attachments": {},
   "cell_type": "markdown",
   "metadata": {},
   "source": [
    "#### String representation of objects\n",
    "\n",
    "Add the __str__() method to Employee that satisfies the following:\n",
    "\n",
    "- If emp is an Employee object with name \"Amar Howard\" and salary of 40000, then print(emp) outputs\n",
    "\n",
    "Employee name: Amar Howard\n",
    "\n",
    "Employee salary: 40000"
   ]
  },
  {
   "cell_type": "code",
   "execution_count": null,
   "metadata": {},
   "outputs": [],
   "source": []
  }
 ],
 "metadata": {
  "language_info": {
   "name": "python"
  },
  "orig_nbformat": 4
 },
 "nbformat": 4,
 "nbformat_minor": 2
}
